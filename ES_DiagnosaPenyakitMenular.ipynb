{
  "nbformat": 4,
  "nbformat_minor": 0,
  "metadata": {
    "colab": {
      "provenance": [],
      "authorship_tag": "ABX9TyMBQW4DfheIMOv1or2DxtWw",
      "include_colab_link": true
    },
    "kernelspec": {
      "name": "python3",
      "display_name": "Python 3"
    },
    "language_info": {
      "name": "python"
    }
  },
  "cells": [
    {
      "cell_type": "markdown",
      "metadata": {
        "id": "view-in-github",
        "colab_type": "text"
      },
      "source": [
        "<a href=\"https://colab.research.google.com/github/jehianth/ES_DiagnosaPenyakitMenular/blob/main/ES_DiagnosaPenyakitMenular.ipynb\" target=\"_parent\"><img src=\"https://colab.research.google.com/assets/colab-badge.svg\" alt=\"Open In Colab\"/></a>"
      ]
    },
    {
      "cell_type": "code",
      "execution_count": 25,
      "metadata": {
        "id": "1O0nWeMsafFt"
      },
      "outputs": [],
      "source": [
        "class SistemPakar:\n",
        "    def __init__(self):\n",
        "        self.gejala_penyakit = {\n",
        "            'ispa': ['batuk', 'pilek', 'sesak nafas'],\n",
        "            'diare': ['diare', 'mual', 'muntah'],\n",
        "            'demam berdarah': ['demam tinggi', 'nyeri sendi', 'ruam kulit'],\n",
        "            'cacingan': ['perut kembung', 'mual', 'diare'],\n",
        "            'covid-19': ['demam', 'batuk kering', 'kesulitan bernafas'],\n",
        "            'tuberkulosis': ['batuk kronis', 'penurunan berat badan', 'lemah'],\n",
        "            'malaria': ['demam bergiliran', 'menggigil', 'nyeri otot'],\n",
        "            'penyakit kulit': ['ruam', 'gatal', 'kemerahan'],\n",
        "            'difteri': ['demam', 'nyeri tenggorokan', 'pembengkakan kelenjar']\n",
        "        }\n",
        "\n",
        "    def prediksi_penyakit(self, gejala):\n",
        "        hasil_prediksi = []\n",
        "\n",
        "        for penyakit, gejala_penyakit in self.gejala_penyakit.items():\n",
        "            gejala_cocok = set(gejala).intersection(gejala_penyakit)\n",
        "            if gejala_cocok:\n",
        "                hasil_prediksi.append((penyakit, gejala_cocok))\n",
        "\n",
        "        return hasil_prediksi"
      ]
    },
    {
      "cell_type": "code",
      "source": [
        "# Fungsi untuk menerima input gejala dari pengguna\n",
        "def input_gejala():\n",
        "    gejala = input(\"Masukkan gejala yang Anda alami (pisahkan dengan koma): \")\n",
        "    gejala = [g.strip() for g in gejala.split(',')]\n",
        "    return gejala"
      ],
      "metadata": {
        "id": "J3Ze_ZaGbQ24"
      },
      "execution_count": 26,
      "outputs": []
    },
    {
      "cell_type": "code",
      "source": [
        "# Main program\n",
        "if __name__ == \"__main__\":\n",
        "    sistem_pakar = SistemPakar()\n",
        "\n",
        "    print(\"Selamat datang di Sistem Pakar Prediksi Penyakit Berdasarkan Gejala\")\n",
        "    print(\"Daftar gejala yang dapat dimasukkan:\")\n",
        "    all_symptoms = set()\n",
        "    for gejala_list in sistem_pakar.gejala_penyakit.values():\n",
        "        all_symptoms.update(gejala_list)\n",
        "    for gejala in all_symptoms:\n",
        "        print(\"- \" + gejala)\n",
        "\n",
        "    gejala_pengguna = input_gejala()\n",
        "    hasil_prediksi = sistem_pakar.prediksi_penyakit(gejala_pengguna)\n",
        "\n",
        "    if hasil_prediksi:\n",
        "        print(\"\\nBerdasarkan gejala yang Anda inputkan, penyakit yang mungkin terjadi:\")\n",
        "        for penyakit, gejala_cocok in hasil_prediksi:\n",
        "            print(\"- Penyakit:\", penyakit)\n",
        "            print(\"  Gejala Cocok:\", ', '.join(gejala_cocok))\n",
        "    else:\n",
        "        print(\"\\nTidak dapat memprediksi penyakit berdasarkan gejala yang diberikan.\")"
      ],
      "metadata": {
        "id": "RIgie1d7bzbw",
        "colab": {
          "base_uri": "https://localhost:8080/"
        },
        "outputId": "cdf47ed2-76c8-4ec8-8f6a-c7c22b7468cd"
      },
      "execution_count": 31,
      "outputs": [
        {
          "output_type": "stream",
          "name": "stdout",
          "text": [
            "Selamat datang di Sistem Pakar Prediksi Penyakit Berdasarkan Gejala\n",
            "Daftar gejala yang dapat dimasukkan:\n",
            "- nyeri tenggorokan\n",
            "- muntah\n",
            "- batuk kering\n",
            "- diare\n",
            "- ruam\n",
            "- sesak nafas\n",
            "- penurunan berat badan\n",
            "- demam tinggi\n",
            "- menggigil\n",
            "- lemah\n",
            "- demam\n",
            "- demam bergiliran\n",
            "- batuk kronis\n",
            "- pilek\n",
            "- kemerahan\n",
            "- ruam kulit\n",
            "- batuk\n",
            "- mual\n",
            "- nyeri otot\n",
            "- perut kembung\n",
            "- gatal\n",
            "- pembengkakan kelenjar\n",
            "- nyeri sendi\n",
            "- kesulitan bernafas\n",
            "Masukkan gejala yang Anda alami (pisahkan dengan koma): mual\n",
            "\n",
            "Berdasarkan gejala yang Anda inputkan, penyakit yang mungkin terjadi:\n",
            "- Penyakit: diare\n",
            "  Gejala Cocok: mual\n",
            "- Penyakit: cacingan\n",
            "  Gejala Cocok: mual\n"
          ]
        }
      ]
    }
  ]
}